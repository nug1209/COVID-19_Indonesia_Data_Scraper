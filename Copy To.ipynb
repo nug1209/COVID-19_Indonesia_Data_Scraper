{
 "cells": [
  {
   "cell_type": "code",
   "execution_count": null,
   "metadata": {},
   "outputs": [],
   "source": [
    "import os\n",
    "from shutil import copy\n",
    "import pandas as pd\n",
    "import numpy as np\n",
    "\n",
    "os.listdir('ErrorLog')\n",
    "\n",
    "df = pd.read_excel('ErrorLog/AllErrorLog.xlsx', index_col=0)\n",
    "\n",
    "df['Temp1'] = df['Error Files'].astype(str)\n",
    "\n",
    "for i, val in enumerate(df['Temp1']):\n",
    "    if len(val) < 6:\n",
    "        df['Temp1'] = df['Temp1'].replace([val],'0' + val)\n",
    "\n",
    "df['File Names'] = 'DL' + df['Temp1'] + '.pdf'\n",
    "\n",
    "month_name = ['Maret', 'April', 'Mei', 'Juni', 'Juli', 'Agustus', 'September']\n",
    "\n",
    "df.reset_index(drop=True, inplace=True)\n",
    "\n",
    "cwd = os.path.abspath(os.getcwd())\n",
    "\n",
    "for i, val in enumerate(df['Month']):\n",
    "    val_int = int(val)\n",
    "    df['Month'][i] = month_name[val_int-3]\n",
    "\n",
    "df['File Path'] = cwd + '\\\\Downloaded\\\\' + df['Month'] + '\\\\' + df['File Names']\n",
    "\n",
    "destination_path = cwd  + '\\\\' + 'ErrorPDF\\\\'\n",
    "\n",
    "for file in df['File Path']:\n",
    "    copy(file, destination_path)"
   ]
  },
  {
   "cell_type": "code",
   "execution_count": null,
   "metadata": {},
   "outputs": [],
   "source": [
    "print('Copying done!')"
   ]
  }
 ],
 "metadata": {
  "kernelspec": {
   "display_name": "Python 3",
   "language": "python",
   "name": "python3"
  },
  "language_info": {
   "codemirror_mode": {
    "name": "ipython",
    "version": 3
   },
   "file_extension": ".py",
   "mimetype": "text/x-python",
   "name": "python",
   "nbconvert_exporter": "python",
   "pygments_lexer": "ipython3",
   "version": "3.7.6"
  }
 },
 "nbformat": 4,
 "nbformat_minor": 4
}
