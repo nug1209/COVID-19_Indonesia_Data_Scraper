{
 "cells": [
  {
   "cell_type": "code",
   "execution_count": null,
   "metadata": {},
   "outputs": [],
   "source": [
    "import pandas as pd\n",
    "import numpy as np\n",
    "import os\n",
    "from tabula import read_pdf\n",
    "import re\n",
    "from dateutil import parser\n",
    "from datetime import datetime\n",
    "from datetime import date"
   ]
  },
  {
   "cell_type": "code",
   "execution_count": null,
   "metadata": {},
   "outputs": [],
   "source": [
    "def process_text(file_number):\n",
    "\n",
    "# DEFINE BOX TO SCAN THEN EXTRACT DATA\n",
    "    \n",
    "    box = [212.00, 325.00, 300.00, 600.00]\n",
    "    extract_data = read_pdf(directory + '/DL' + file_number + '.pdf', pages='1', area=[box], stream=True)\n",
    "\n",
    "# DEFINE WHICH PART OF TEXT TO EXTRACT\n",
    "\n",
    "    string_extract = ''.join(map(str, extract_data))\n",
    "    diperiksa_find = '(diperiksa?\\s*:\\s*[0-9.,]+)'\n",
    "    diperiksa_data = re.findall(diperiksa_find, string_extract)\n",
    "    diperiksa_data = diperiksa_data[0].replace(',', '').replace('.','').replace('diperiksa','').replace(':','').strip()\n",
    "    diperiksa_data = int(diperiksa_data)\n",
    "    \n",
    "    positif_find = '(Positif\\sCOVID-19?\\s*:\\s*[0-9.,]+)'\n",
    "    positif_data = re.findall(positif_find, string_extract)\n",
    "    positif_data = positif_data[0].replace(',', '').replace('.','').replace('Positif COVID-19','').replace(':','').strip()\n",
    "    positif_data = int(positif_data)\n",
    "    \n",
    "    sembuh_find = '(Sembuh\\s\\\\(Positif\\sCOVID-19\\\\)?\\s*:\\s*[0-9.,]+)'\n",
    "    sembuh_data = re.findall(sembuh_find, string_extract)\n",
    "    sembuh_data = sembuh_data[0].replace(',', '').replace('.','').replace('Sembuh (Positif COVID-19)','').replace(':','').strip()\n",
    "    sembuh_data = int(sembuh_data)\n",
    "    \n",
    "    meninggal_find = '(Meninggal\\s\\\\(Positif\\sCOVID-19\\\\)?\\s*:\\s*[0-9.,]+)'\n",
    "    meninggal_data = re.findall(meninggal_find, string_extract)\n",
    "    meninggal_data = meninggal_data[0].replace(',', '').replace('.','').replace('\\'','').replace('Meninggal (Positif COVID-19)','').replace(':','').strip()\n",
    "    meninggal_data = int(meninggal_data)\n",
    "    \n",
    "# ADD SOME INDICES AND DATE\n",
    "\n",
    "    pr_kum = 100 * positif_data / diperiksa_data\n",
    "    cfr_kum = 100 * meninggal_data / positif_data\n",
    "    \n",
    "    tgl = file_number[:2] + \"-\" + file_number[2:4] + \"-\" + file_number[4:]\n",
    "    tgl = datetime.strptime(tgl, '%d-%m-%y')\n",
    "    tgl = tgl.date()\n",
    "\n",
    "# PUT THE EXTRACTED DATA INTO A DATAFRAME\n",
    "\n",
    "    data = {'DPRIKS': [diperiksa_data], 'PSTF KUM': [positif_data], 'SMBH KUM': [sembuh_data], 'MNGL KUM':[meninggal_data], \n",
    "            'PR KUM': [pr_kum], 'CFR KUM': [cfr_kum], 'TGL': [tgl]}\n",
    "    columns = ['DPRIKS', 'PSTF KUM', 'SMBH KUM', 'MNGL KUM', 'PR KUM', 'CFR KUM', 'TGL']\n",
    "    \n",
    "    df_err_total = pd.DataFrame(data=data, columns=columns)\n",
    "    \n",
    "    return df_err_total\n"
   ]
  },
  {
   "cell_type": "code",
   "execution_count": null,
   "metadata": {},
   "outputs": [],
   "source": [
    "# month_name = 'Maret'\n",
    "# directory = 'ErrorPDF/' + month_name\n",
    "# file_number = '190320'"
   ]
  },
  {
   "cell_type": "code",
   "execution_count": null,
   "metadata": {},
   "outputs": [],
   "source": [
    "# FUNCTION TO INITIATE EXTRACTION PROCESS\n",
    "\n",
    "def process_all(file_number):\n",
    "    df_err_total = process_text(file_number)\n",
    "    return df_err_total"
   ]
  },
  {
   "cell_type": "code",
   "execution_count": null,
   "metadata": {},
   "outputs": [],
   "source": [
    "error_files = []\n",
    "error_msgs = []\n",
    "\n",
    "total_columns = ['DPRIKS', 'PSTF KUM', 'SMBH KUM', 'MNGL KUM', 'PR KUM', 'CFR KUM', 'TGL']\n",
    "\n",
    "agg_err_total = pd.DataFrame(columns=total_columns)\n",
    "\n",
    "# IMPLEMENT FUNCTION WITH ITERATION OF FILES IN FOLDER\n",
    "\n",
    "month_name = 'Agustus'\n",
    "directory = 'ErrorPDF/' + month_name\n",
    "\n",
    "for file in os.listdir(directory):\n",
    "    file_number = file[2:8]\n",
    "    print('Processing ' + file_number)\n",
    "    try:\n",
    "        df_err_total = process_all(file_number)\n",
    "        agg_err_total = agg_err_total.append(df_err_total, ignore_index=True)\n",
    "    except Exception as e:\n",
    "        error_files.append(file_number)\n",
    "        error_msgs.append(e)\n",
    "        print(e)\n",
    "        continue\n",
    "        \n",
    "# HANDLE LOG OF ERRORS\n",
    "\n",
    "error_dict = {'Error Files': error_files, 'Error Messages': error_msgs}\n",
    "df_error = pd.DataFrame(data=error_dict)\n",
    "df_error.to_excel(directory + '/ErrorTotalLog_' + month_name + '.xlsx')\n",
    "\n",
    "# WRITE AGGREGATED DATA TO EXCEL\n",
    "\n",
    "agg_err_total.to_excel(directory + '/AggErrTTL_' + month_name + '.xlsx')\n",
    "\n",
    "\n",
    "# THIS CODE FAILED WITH THE ERROR 'LIST INDEX OUT OF RANGE' PROBABLY THERE IS SOMETHING WRONG IN THE OCR PROCESS.\n",
    "# I DECIDE TO GO FULLY MANUAL INSTEAD FOR THE ERROR PDF"
   ]
  }
 ],
 "metadata": {
  "kernelspec": {
   "display_name": "Python 3",
   "language": "python",
   "name": "python3"
  },
  "language_info": {
   "codemirror_mode": {
    "name": "ipython",
    "version": 3
   },
   "file_extension": ".py",
   "mimetype": "text/x-python",
   "name": "python",
   "nbconvert_exporter": "python",
   "pygments_lexer": "ipython3",
   "version": "3.7.6"
  }
 },
 "nbformat": 4,
 "nbformat_minor": 4
}
